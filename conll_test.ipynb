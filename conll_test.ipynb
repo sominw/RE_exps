{
 "cells": [
  {
   "cell_type": "code",
   "execution_count": null,
   "metadata": {},
   "outputs": [],
   "source": [
    "import os\n",
    "from tqdm import tqdm\n",
    "import json\n",
    "import jsonlines\n",
    "import pickle as pk\n",
    "import random\n",
    "from tqdm import tqdm\n",
    "import ast\n",
    "import pandas as pd\n",
    "# from datasets import load_dataset, get_dataset_split_names"
   ]
  },
  {
   "cell_type": "code",
   "execution_count": null,
   "metadata": {},
   "outputs": [],
   "source": [
    "prompt_elements = pk.load(open('conll04_prompt.pkl', 'rb'))"
   ]
  },
  {
   "cell_type": "code",
   "execution_count": null,
   "metadata": {},
   "outputs": [],
   "source": [
    "keys = list(prompt_elements.keys())\n",
    "random.shuffle(keys)"
   ]
  },
  {
   "cell_type": "code",
   "execution_count": null,
   "metadata": {},
   "outputs": [],
   "source": [
    "s = \"\"\n",
    "for text in keys:\n",
    "    s += \"TEXT: \" + text + \"\\n\"\n",
    "    for triplet in prompt_elements[text]:\n",
    "        s += (\"{\"+triplet[0]+\"::\"+triplet[1]+\"::\"+triplet[2]+\"}::\")\n",
    "    s += \"<end>\\n\\n\"\n",
    "    # print (s)\n",
    "    # print (\"\\n\")\n",
    "\n",
    "conll = json.load(open('conll04_dev.json'))"
   ]
  }
 ],
 "metadata": {
  "kernelspec": {
   "display_name": "py38",
   "language": "python",
   "name": "python3"
  },
  "language_info": {
   "codemirror_mode": {
    "name": "ipython",
    "version": 3
   },
   "file_extension": ".py",
   "mimetype": "text/x-python",
   "name": "python",
   "nbconvert_exporter": "python",
   "pygments_lexer": "ipython3",
   "version": "3.8.13 (default, Oct 21 2022, 23:50:54) \n[GCC 11.2.0]"
  },
  "vscode": {
   "interpreter": {
    "hash": "6cdb4a90f516cdb8acb9cc7a6f4945680672ca2f5c409fa7686de9f3ab1766a3"
   }
  }
 },
 "nbformat": 4,
 "nbformat_minor": 2
}
