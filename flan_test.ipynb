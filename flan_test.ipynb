{
 "cells": [
  {
   "cell_type": "code",
   "execution_count": 1,
   "id": "9a3f017a",
   "metadata": {},
   "outputs": [
    {
     "name": "stderr",
     "output_type": "stream",
     "text": [
      "/home/wadhwa.s/.conda/envs/py38/lib/python3.8/site-packages/tqdm/auto.py:22: TqdmWarning: IProgress not found. Please update jupyter and ipywidgets. See https://ipywidgets.readthedocs.io/en/stable/user_install.html\n",
      "  from .autonotebook import tqdm as notebook_tqdm\n"
     ]
    }
   ],
   "source": [
    "import numpy as np\n",
    "import pandas as pd\n",
    "import logging\n",
    "import os\n",
    "import glob\n",
    "import regex as re\n",
    "import torch\n",
    "import argparse\n",
    "import random\n",
    "import itertools\n",
    "from random import random\n",
    "import ast\n",
    "import sys\n",
    "import ast\n",
    "\n",
    "from sklearn.model_selection import train_test_split\n",
    "from transformers import T5Tokenizer, T5ForConditionalGeneration\n",
    "from transformers import AutoModelForSeq2SeqLM, AutoTokenizer\n",
    "import simpletransformers"
   ]
  },
  {
   "cell_type": "code",
   "execution_count": 2,
   "id": "8021266d",
   "metadata": {},
   "outputs": [],
   "source": [
    "from simpletransformers.t5 import T5Model, T5Args"
   ]
  },
  {
   "cell_type": "code",
   "execution_count": 3,
   "id": "7692edf3",
   "metadata": {},
   "outputs": [],
   "source": [
    "os.environ['TORCH_HOME'] = '/scratch/wadhwa.s/cache/'\n",
    "os.environ['HF_HOME'] = '/scratch/wadhwa.s/cache'\n",
    "os.environ['TRANSFORMERS_CACHE'] = '/scratch/wadhwa.s/cache'"
   ]
  },
  {
   "cell_type": "code",
   "execution_count": 4,
   "id": "5513f18a",
   "metadata": {},
   "outputs": [
    {
     "name": "stderr",
     "output_type": "stream",
     "text": [
      "Downloading: 100%|█████████████████████████| 2.42M/2.42M [00:00<00:00, 4.10MB/s]\n"
     ]
    }
   ],
   "source": [
    "tokenizer = AutoTokenizer.from_pretrained(\"google/flan-t5-xxl\", cache_dir=\"/scratch/wadhwa.s/cache\")"
   ]
  },
  {
   "cell_type": "code",
   "execution_count": 5,
   "id": "44ec3ac3",
   "metadata": {},
   "outputs": [],
   "source": [
    "model = AutoModelForSeq2SeqLM.from_pretrained(\"google/flan-t5-xxl\", cache_dir=\"/scratch/wadhwa.s/cache\", device_map=\"auto\")"
   ]
  },
  {
   "cell_type": "code",
   "execution_count": 6,
   "id": "3b5be3ce",
   "metadata": {},
   "outputs": [],
   "source": [
    "input_text = \"Alprazolam caused nausea in several patients.\\n[Alprazolam, nausea]</s>\\n\\nXanax was non-effective in treating headaches and made them worse.\\n[Xanax, headaches]</s>\\n\\nTaking aspirin made patients feel constipated.\"\n",
    "input_ids = tokenizer(input_text, return_tensors=\"pt\").input_ids.to(\"cuda\")"
   ]
  },
  {
   "cell_type": "code",
   "execution_count": 7,
   "id": "e3f542e5",
   "metadata": {},
   "outputs": [],
   "source": [
    "outputs = model.generate(input_ids, max_length=200)"
   ]
  },
  {
   "cell_type": "code",
   "execution_count": 8,
   "id": "cd662546",
   "metadata": {},
   "outputs": [
    {
     "name": "stdout",
     "output_type": "stream",
     "text": [
      "['[Aspirin, constipation]']\n"
     ]
    }
   ],
   "source": [
    "print(tokenizer.batch_decode(outputs, skip_special_tokens=True))"
   ]
  },
  {
   "cell_type": "code",
   "execution_count": 83,
   "id": "40e9c45d",
   "metadata": {},
   "outputs": [
    {
     "name": "stdout",
     "output_type": "stream",
     "text": [
      "We report a rare case of colonic mucosal necrosis following Kalimate (calcium polystryrene sulfonate), an analogue of Kayexalate without sorbitol in a 34-yr-old man.\n",
      "Relation List: [[\"calcium polystryrene sulfonate\",\"colonic mucosal necrosis\"],[\"Kalimate\",\"colonic mucosal necrosis\"],[\"Kayexalate\",\"colonic mucosal necrosis\"]]</s>\n",
      "\n",
      "Moreover, these findings suggest that the incidence of BOOP following rituximab therapy may be higher than has been previously appreciated.\n",
      "Relation List: [[\"rituximab\",\"BOOP\"]</s>\n",
      "\n",
      "Malignant mixed mullerian tumor of the uterus in a patient taking raloxifene.\n",
      "Relation List: [[\"raloxifene\",\"Malignant mixed mullerian tumor of the uterus\"]]</s>\n",
      "\n",
      "We describe a case of clozapine-induced seizures in a patient with treatment-resistant schizophrenia.\n",
      "Relation List: [[\"clozapine\",\"seizures\"]]</s>\n",
      "\n",
      "Fever, pulmonary infiltrates, and pleural effusion following acyclovir therapy for herpes zoster ophthalmicus.\n",
      "Relation List: [[\"acyclovir,Fever\"],[\"acyclovir\",\"pleural effusion\"],[\"acyclovir\",\"pulmonary infiltrates\"]]</s>\n",
      "\n",
      "CONCLUSION: We believe this to be the first reported case of rhGH-induced hypercalcemia in an HIV-infected patient.\n",
      "Relation List: [[\"rhGH\",\"hypercalcemia\"]</s>\n",
      "\n",
      "A case of acute subdural haematoma originating spontaneously from an angiomatous meningioma in a patient receiving prophylactic aspirin therapy is presented.\n",
      "Relation List: [[\"aspirin\",\"acute subdural haematoma\"]]</s>\n",
      "\n",
      "We report the first case of doxycycline-induced hypoglycemia in a young nondiabetic man.\n",
      "Relation List: [[\"doxycycline\",\"hypoglycemia\"]]</s>\n",
      "\n",
      "PURPOSE: To describe bilateral corneal endothelial dysfunction in a patient with Parkinson disease who was treated with long-term amantadine.\n",
      "Relation List: [[\"amantadine\",\"bilateral corneal endothelial dysfunction\"]]</s>\n",
      "\n",
      "The Naranjo probability scale indicated a probable relationship between apnea and exposure to lamotrigine through breast-feeding in this infant.\n",
      "Relation List: [[\"lamotrigine\",\"apnea\"]]</s>\n",
      "\n",
      "Temporary neurologic abnormalities were observed in one out of 23 patients undergoing chemotherapy with high-dose methotrexate (HD-MTX) for osteogenic sarcoma.\n",
      "Relation List: [[\"methotrexate\",\"Temporary neurologic abnormalities\"]]</s>\n",
      "\n",
      "Complications of chemotherapy for a synovial sarcoma in an eight-year old boy included cisplatinum nephrotoxicity and adriamycin cardiotoxicity.\n",
      "Relation List: [[\"adriamycin\",\"cardiotoxicity\"],[\"cisplatinum\",\"nephrotoxicity\"]]</s>\n",
      "\n",
      "\n"
     ]
    }
   ],
   "source": [
    "with open(\"ade_prompt.txt\", \"r\") as text_file:\n",
    "    prompt = text_file.read()\n",
    "print (prompt)"
   ]
  },
  {
   "cell_type": "code",
   "execution_count": 84,
   "id": "02788692",
   "metadata": {},
   "outputs": [],
   "source": [
    "test_str = \"\"\"Dilated cardiomyopathy associated with chronic overuse of an adrenaline inhaler.\"\"\""
   ]
  },
  {
   "cell_type": "code",
   "execution_count": 85,
   "id": "69fa6a06",
   "metadata": {},
   "outputs": [],
   "source": [
    "prompt = prompt + test_str + \"\\nRelation List: \""
   ]
  },
  {
   "cell_type": "code",
   "execution_count": 86,
   "id": "a0e93285",
   "metadata": {},
   "outputs": [
    {
     "name": "stdout",
     "output_type": "stream",
     "text": [
      "We report a rare case of colonic mucosal necrosis following Kalimate (calcium polystryrene sulfonate), an analogue of Kayexalate without sorbitol in a 34-yr-old man.\n",
      "Relation List: [[\"calcium polystryrene sulfonate\",\"colonic mucosal necrosis\"],[\"Kalimate\",\"colonic mucosal necrosis\"],[\"Kayexalate\",\"colonic mucosal necrosis\"]]</s>\n",
      "\n",
      "Moreover, these findings suggest that the incidence of BOOP following rituximab therapy may be higher than has been previously appreciated.\n",
      "Relation List: [[\"rituximab\",\"BOOP\"]</s>\n",
      "\n",
      "Malignant mixed mullerian tumor of the uterus in a patient taking raloxifene.\n",
      "Relation List: [[\"raloxifene\",\"Malignant mixed mullerian tumor of the uterus\"]]</s>\n",
      "\n",
      "We describe a case of clozapine-induced seizures in a patient with treatment-resistant schizophrenia.\n",
      "Relation List: [[\"clozapine\",\"seizures\"]]</s>\n",
      "\n",
      "Fever, pulmonary infiltrates, and pleural effusion following acyclovir therapy for herpes zoster ophthalmicus.\n",
      "Relation List: [[\"acyclovir,Fever\"],[\"acyclovir\",\"pleural effusion\"],[\"acyclovir\",\"pulmonary infiltrates\"]]</s>\n",
      "\n",
      "CONCLUSION: We believe this to be the first reported case of rhGH-induced hypercalcemia in an HIV-infected patient.\n",
      "Relation List: [[\"rhGH\",\"hypercalcemia\"]</s>\n",
      "\n",
      "A case of acute subdural haematoma originating spontaneously from an angiomatous meningioma in a patient receiving prophylactic aspirin therapy is presented.\n",
      "Relation List: [[\"aspirin\",\"acute subdural haematoma\"]]</s>\n",
      "\n",
      "We report the first case of doxycycline-induced hypoglycemia in a young nondiabetic man.\n",
      "Relation List: [[\"doxycycline\",\"hypoglycemia\"]]</s>\n",
      "\n",
      "PURPOSE: To describe bilateral corneal endothelial dysfunction in a patient with Parkinson disease who was treated with long-term amantadine.\n",
      "Relation List: [[\"amantadine\",\"bilateral corneal endothelial dysfunction\"]]</s>\n",
      "\n",
      "The Naranjo probability scale indicated a probable relationship between apnea and exposure to lamotrigine through breast-feeding in this infant.\n",
      "Relation List: [[\"lamotrigine\",\"apnea\"]]</s>\n",
      "\n",
      "Temporary neurologic abnormalities were observed in one out of 23 patients undergoing chemotherapy with high-dose methotrexate (HD-MTX) for osteogenic sarcoma.\n",
      "Relation List: [[\"methotrexate\",\"Temporary neurologic abnormalities\"]]</s>\n",
      "\n",
      "Complications of chemotherapy for a synovial sarcoma in an eight-year old boy included cisplatinum nephrotoxicity and adriamycin cardiotoxicity.\n",
      "Relation List: [[\"adriamycin\",\"cardiotoxicity\"],[\"cisplatinum\",\"nephrotoxicity\"]]</s>\n",
      "\n",
      "Dilated cardiomyopathy associated with chronic overuse of an adrenaline inhaler.\n",
      "Relation List: \n"
     ]
    }
   ],
   "source": [
    "print (prompt)"
   ]
  },
  {
   "cell_type": "code",
   "execution_count": 87,
   "id": "99563c6f",
   "metadata": {},
   "outputs": [],
   "source": [
    "input_ids = tokenizer(prompt, return_tensors=\"pt\").input_ids.to(\"cuda\")"
   ]
  },
  {
   "cell_type": "code",
   "execution_count": 90,
   "id": "3528a211",
   "metadata": {},
   "outputs": [],
   "source": [
    "outputs = model.generate(input_ids, max_length=200)"
   ]
  },
  {
   "cell_type": "code",
   "execution_count": 91,
   "id": "24beb954",
   "metadata": {},
   "outputs": [
    {
     "name": "stdout",
     "output_type": "stream",
     "text": [
      "[[\"adrenaline\",\"cardiomyopathy\"]]\n"
     ]
    }
   ],
   "source": [
    "print(tokenizer.batch_decode(outputs, skip_special_tokens=True)[0])"
   ]
  },
  {
   "cell_type": "code",
   "execution_count": null,
   "id": "35d4f3e5",
   "metadata": {},
   "outputs": [],
   "source": []
  },
  {
   "cell_type": "code",
   "execution_count": 4,
   "id": "2d39a55a",
   "metadata": {},
   "outputs": [],
   "source": [
    "model_args = {\n",
    "    \"cache_dir\" : \"/scratch/wadhwa.s/cache/\",\n",
    "    \"device_map\" : \"auto\",\n",
    "    \"use_multiprocessing\": False,\n",
    "    \"use_multiprocessed_decoding\": False,\n",
    "#         \"num_train_epochs\" : 4,\n",
    "         \"no_save\" : True,\n",
    "#         \"preprocess_inputs\" : False,\n",
    "         \"overwrite_output_dir\" : True,\n",
    "#         \"special_tokens_list\" : [\"<bos>\", \"<eos>\", \"<rel>\", \"<ent>\"],\n",
    "#         \"max_length\" : 200,\n",
    "#         \"num_beams\" : 5,\n",
    "#         \"learning_rate\": lr,\n",
    "\n",
    "    }"
   ]
  },
  {
   "cell_type": "code",
   "execution_count": 5,
   "id": "b7760c38",
   "metadata": {},
   "outputs": [],
   "source": [
    "model = T5Model(\"t5\", \"google/flan-t5-xxl\", args=model_args)"
   ]
  },
  {
   "cell_type": "code",
   "execution_count": 16,
   "id": "f6c2312e",
   "metadata": {},
   "outputs": [],
   "source": [
    "to_predict = [\n",
    "    \"find [drug, adverse event] relation pairs: Alprazolam caused nausea in several patients.\",\n",
    "    \"compute: 2 + 2\"\n",
    "]"
   ]
  },
  {
   "cell_type": "code",
   "execution_count": 17,
   "id": "54cb4efa",
   "metadata": {},
   "outputs": [
    {
     "name": "stderr",
     "output_type": "stream",
     "text": [
      "Generating outputs: 100%|███████████████████████████████████████████████████████████████████████████████████████████████████████████████████████████████████████████████████████████████| 1/1 [00:00<00:00,  1.11it/s]\n"
     ]
    }
   ],
   "source": [
    "preds = model.predict(to_predict)"
   ]
  },
  {
   "cell_type": "code",
   "execution_count": 18,
   "id": "25e4b04d",
   "metadata": {},
   "outputs": [
    {
     "data": {
      "text/plain": [
       "['alprazolam, adverse event nausea', '2']"
      ]
     },
     "execution_count": 18,
     "metadata": {},
     "output_type": "execute_result"
    }
   ],
   "source": [
    "preds"
   ]
  },
  {
   "cell_type": "code",
   "execution_count": null,
   "id": "3bdfe8fd",
   "metadata": {},
   "outputs": [],
   "source": []
  }
 ],
 "metadata": {
  "kernelspec": {
   "display_name": "Python [conda env:.conda-py38] *",
   "language": "python",
   "name": "conda-env-.conda-py38-py"
  },
  "language_info": {
   "codemirror_mode": {
    "name": "ipython",
    "version": 3
   },
   "file_extension": ".py",
   "mimetype": "text/x-python",
   "name": "python",
   "nbconvert_exporter": "python",
   "pygments_lexer": "ipython3",
   "version": "3.8.13"
  }
 },
 "nbformat": 4,
 "nbformat_minor": 5
}
