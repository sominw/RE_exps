{
 "cells": [
  {
   "cell_type": "code",
   "execution_count": null,
   "metadata": {},
   "outputs": [],
   "source": [
    "import os\n",
    "from tqdm import tqdm\n",
    "import json\n",
    "import jsonlines\n",
    "import pickle as pk\n",
    "import random\n",
    "from tqdm import tqdm\n",
    "import ast\n",
    "import pandas as pd\n",
    "# from datasets import load_dataset, get_dataset_split_names"
   ]
  },
  {
   "cell_type": "code",
   "execution_count": null,
   "metadata": {},
   "outputs": [],
   "source": [
    "prompt_elements = pk.load(open('conll04_prompt.pkl', 'rb'))"
   ]
  },
  {
   "cell_type": "code",
   "execution_count": null,
   "metadata": {},
   "outputs": [],
   "source": [
    "keys = list(prompt_elements.keys())\n",
    "random.shuffle(keys)"
   ]
  },
  {
   "cell_type": "code",
   "execution_count": null,
   "metadata": {},
   "outputs": [],
   "source": [
    "s = \"\"\n",
    "for text in keys:\n",
    "    s += \"TEXT: \" + text + \"\\n\"\n",
    "    for triplet in prompt_elements[text]:\n",
    "        s += (\"{\"+triplet[0]+\"::\"+triplet[1]+\"::\"+triplet[2]+\"}::\")\n",
    "    s += \"<end>\\n\\n\"\n",
    "    # print (s)\n",
    "    # print (\"\\n\")\n",
    "\n",
    "conll = json.load(open('conll04_dev.json'))"
   ]
  }
 ],
 "metadata": {
  "kernelspec": {
   "display_name": "Python 3 (ipykernel)",
   "language": "python",
   "name": "python3"
  },
  "language_info": {
   "codemirror_mode": {
    "name": "ipython",
    "version": 3
   },
   "file_extension": ".py",
   "mimetype": "text/x-python",
   "name": "python",
   "nbconvert_exporter": "python",
   "pygments_lexer": "ipython3",
   "version": "3.8.13"
  }
 },
 "nbformat": 4,
 "nbformat_minor": 2
}
