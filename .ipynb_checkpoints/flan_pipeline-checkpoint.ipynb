{
 "cells": [
  {
   "cell_type": "code",
   "execution_count": 1,
   "id": "557875d4",
   "metadata": {},
   "outputs": [
    {
     "name": "stderr",
     "output_type": "stream",
     "text": [
      "/home/wadhwa.s/.conda/envs/py38/lib/python3.8/site-packages/tqdm/auto.py:22: TqdmWarning: IProgress not found. Please update jupyter and ipywidgets. See https://ipywidgets.readthedocs.io/en/stable/user_install.html\n",
      "  from .autonotebook import tqdm as notebook_tqdm\n"
     ]
    }
   ],
   "source": [
    "import numpy as np\n",
    "import pandas as pd\n",
    "import logging\n",
    "import os\n",
    "import glob\n",
    "import regex as re\n",
    "import torch\n",
    "import argparse\n",
    "import random\n",
    "import itertools\n",
    "import ast\n",
    "import sys\n",
    "import ast\n",
    "from tqdm import tqdm\n",
    "import warnings\n",
    "\n",
    "from sklearn.model_selection import train_test_split\n",
    "from transformers import T5Tokenizer, T5ForConditionalGeneration\n",
    "from transformers import AutoModelForSeq2SeqLM, AutoTokenizer\n",
    "from transformers import pipeline\n",
    "\n",
    "warnings.filterwarnings(\"ignore\")"
   ]
  },
  {
   "cell_type": "code",
   "execution_count": 2,
   "id": "fb7387b8",
   "metadata": {},
   "outputs": [
    {
     "name": "stdout",
     "output_type": "stream",
     "text": [
      "We report a rare case of colonic mucosal necrosis following Kalimate (calcium polystryrene sulfonate), an analogue of Kayexalate without sorbitol in a 34-yr-old man.\n",
      "Relation List: [[\"calcium polystryrene sulfonate\",\"colonic mucosal necrosis\"],[\"Kalimate\",\"colonic mucosal necrosis\"],[\"Kayexalate\",\"colonic mucosal necrosis\"]]</s>\n",
      "\n",
      "Moreover, these findings suggest that the incidence of BOOP following rituximab therapy may be higher than has been previously appreciated.\n",
      "Relation List: [[\"rituximab\",\"BOOP\"]</s>\n",
      "\n",
      "Malignant mixed mullerian tumor of the uterus in a patient taking raloxifene.\n",
      "Relation List: [[\"raloxifene\",\"Malignant mixed mullerian tumor of the uterus\"]]</s>\n",
      "\n",
      "We describe a case of clozapine-induced seizures in a patient with treatment-resistant schizophrenia.\n",
      "Relation List: [[\"clozapine\",\"seizures\"]]</s>\n",
      "\n",
      "Fever, pulmonary infiltrates, and pleural effusion following acyclovir therapy for herpes zoster ophthalmicus.\n",
      "Relation List: [[\"acyclovir,Fever\"],[\"acyclovir\",\"pleural effusion\"],[\"acyclovir\",\"pulmonary infiltrates\"]]</s>\n",
      "\n",
      "CONCLUSION: We believe this to be the first reported case of rhGH-induced hypercalcemia in an HIV-infected patient.\n",
      "Relation List: [[\"rhGH\",\"hypercalcemia\"]</s>\n",
      "\n",
      "A case of acute subdural haematoma originating spontaneously from an angiomatous meningioma in a patient receiving prophylactic aspirin therapy is presented.\n",
      "Relation List: [[\"aspirin\",\"acute subdural haematoma\"]]</s>\n",
      "\n",
      "We report the first case of doxycycline-induced hypoglycemia in a young nondiabetic man.\n",
      "Relation List: [[\"doxycycline\",\"hypoglycemia\"]]</s>\n",
      "\n",
      "PURPOSE: To describe bilateral corneal endothelial dysfunction in a patient with Parkinson disease who was treated with long-term amantadine.\n",
      "Relation List: [[\"amantadine\",\"bilateral corneal endothelial dysfunction\"]]</s>\n",
      "\n",
      "The Naranjo probability scale indicated a probable relationship between apnea and exposure to lamotrigine through breast-feeding in this infant.\n",
      "Relation List: [[\"lamotrigine\",\"apnea\"]]</s>\n",
      "\n",
      "Temporary neurologic abnormalities were observed in one out of 23 patients undergoing chemotherapy with high-dose methotrexate (HD-MTX) for osteogenic sarcoma.\n",
      "Relation List: [[\"methotrexate\",\"Temporary neurologic abnormalities\"]]</s>\n",
      "\n",
      "Complications of chemotherapy for a synovial sarcoma in an eight-year old boy included cisplatinum nephrotoxicity and adriamycin cardiotoxicity.\n",
      "Relation List: [[\"adriamycin\",\"cardiotoxicity\"],[\"cisplatinum\",\"nephrotoxicity\"]]</s>\n",
      "\n",
      "\n"
     ]
    }
   ],
   "source": [
    "with open(\"ade_prompt.txt\", \"r\") as text_file:\n",
    "    prompt = text_file.read()\n",
    "print (prompt)"
   ]
  },
  {
   "cell_type": "code",
   "execution_count": 17,
   "id": "5629dbd7",
   "metadata": {},
   "outputs": [],
   "source": [
    "prompt = \"\"\"List the drugs and their corresponding adverse-effects in the following text using [drug, effect] format:\n",
    "We report the first case of doxycycline-induced hypoglycemia in a young nondiabetic man.\n",
    "ADE PAIRS: [[\"doxycycline\",\"hypoglycemia\"]]</s>\n",
    "\n",
    "List the drugs and their corresponding adverse-effects in the following text using [drug, effect] format:\n",
    "Fever, pulmonary infiltrates, and pleural effusion following acyclovir therapy for herpes zoster ophthalmicus.\n",
    "ADE PAIRS: [[\"acyclovir,Fever\"],[\"acyclovir\",\"pleural effusion\"],[\"acyclovir\",\"pulmonary infiltrates\"]]</s>\n",
    "\n",
    "List the drugs and their corresponding adverse-effects in the following text using [drug, effect] format:\n",
    "Complications of chemotherapy for a synovial sarcoma in an eight-year old boy included cisplatinum nephrotoxicity and adriamycin cardiotoxicity.\n",
    "ADE PAIRS: [[\"adriamycin\",\"cardiotoxicity\"],[\"cisplatinum\",\"nephrotoxicity\"]]</s>\n",
    "\n",
    "List the drugs and their corresponding adverse-effects in the following text using [drug, effect] format:\n",
    "\"\"\""
   ]
  },
  {
   "cell_type": "code",
   "execution_count": 19,
   "id": "9b3b3d36",
   "metadata": {},
   "outputs": [
    {
     "data": {
      "text/plain": [
       "'List the drugs and their corresponding adverse-effects in the following text using [drug, effect] format:\\nWe report the first case of doxycycline-induced hypoglycemia in a young nondiabetic man.\\nADE PAIRS: [[\"doxycycline\",\"hypoglycemia\"]]</s>\\n\\nList the drugs and their corresponding adverse-effects in the following text using [drug, effect] format:\\nFever, pulmonary infiltrates, and pleural effusion following acyclovir therapy for herpes zoster ophthalmicus.\\nADE PAIRS: [[\"acyclovir,Fever\"],[\"acyclovir\",\"pleural effusion\"],[\"acyclovir\",\"pulmonary infiltrates\"]]</s>\\n\\nList the drugs and their corresponding adverse-effects in the following text using [drug, effect] format:\\nComplications of chemotherapy for a synovial sarcoma in an eight-year old boy included cisplatinum nephrotoxicity and adriamycin cardiotoxicity.\\nADE PAIRS: [[\"adriamycin\",\"cardiotoxicity\"],[\"cisplatinum\",\"nephrotoxicity\"]]</s>\\n\\nList the drugs and their corresponding adverse-effects in the following text using [drug, effect] format:\\n'"
      ]
     },
     "execution_count": 19,
     "metadata": {},
     "output_type": "execute_result"
    }
   ],
   "source": [
    "prompt"
   ]
  },
  {
   "cell_type": "code",
   "execution_count": 3,
   "id": "0be31b5d",
   "metadata": {},
   "outputs": [],
   "source": [
    "model = AutoModelForSeq2SeqLM.from_pretrained(\"google/flan-t5-xxl\", \n",
    "                                              cache_dir=\"/scratch/wadhwa.s/cache\", \n",
    "                                              device_map=\"auto\")\n",
    "tokenizer = AutoTokenizer.from_pretrained(\"google/flan-t5-xxl\", \n",
    "                                          cache_dir=\"/scratch/wadhwa.s/cache\")"
   ]
  },
  {
   "cell_type": "code",
   "execution_count": 8,
   "id": "4f8a291d",
   "metadata": {},
   "outputs": [],
   "source": [
    "generator = pipeline(task=\"text2text-generation\", model=model, tokenizer=tokenizer)"
   ]
  },
  {
   "cell_type": "code",
   "execution_count": 15,
   "id": "32b254c1",
   "metadata": {},
   "outputs": [
    {
     "data": {
      "text/plain": [
       "[{'generated_text': '[[\"lamotrigine\", \"apnea\"]]'}]"
      ]
     },
     "execution_count": 15,
     "metadata": {},
     "output_type": "execute_result"
    }
   ],
   "source": [
    "generator(prompt, \n",
    "          max_length=200)"
   ]
  },
  {
   "cell_type": "code",
   "execution_count": 21,
   "id": "d6d54a49",
   "metadata": {},
   "outputs": [],
   "source": [
    "test_str = \"\"\"Dilated cardiomyopathy associated with chronic overuse of an adrenaline inhaler.\"\"\""
   ]
  },
  {
   "cell_type": "code",
   "execution_count": 22,
   "id": "08effb42",
   "metadata": {},
   "outputs": [
    {
     "name": "stdout",
     "output_type": "stream",
     "text": [
      "List the drugs and their corresponding adverse-effects in the following text using [drug, effect] format:\n",
      "We report the first case of doxycycline-induced hypoglycemia in a young nondiabetic man.\n",
      "ADE PAIRS: [[\"doxycycline\",\"hypoglycemia\"]]</s>\n",
      "\n",
      "List the drugs and their corresponding adverse-effects in the following text using [drug, effect] format:\n",
      "Fever, pulmonary infiltrates, and pleural effusion following acyclovir therapy for herpes zoster ophthalmicus.\n",
      "ADE PAIRS: [[\"acyclovir,Fever\"],[\"acyclovir\",\"pleural effusion\"],[\"acyclovir\",\"pulmonary infiltrates\"]]</s>\n",
      "\n",
      "List the drugs and their corresponding adverse-effects in the following text using [drug, effect] format:\n",
      "Complications of chemotherapy for a synovial sarcoma in an eight-year old boy included cisplatinum nephrotoxicity and adriamycin cardiotoxicity.\n",
      "ADE PAIRS: [[\"adriamycin\",\"cardiotoxicity\"],[\"cisplatinum\",\"nephrotoxicity\"]]</s>\n",
      "\n",
      "List the drugs and their corresponding adverse-effects in the following text using [drug, effect] format:\n",
      "Dilated cardiomyopathy associated with chronic overuse of an adrenaline inhaler.\n",
      "ADE PAIRS: \n"
     ]
    }
   ],
   "source": [
    "ip = prompt + test_str + \"\\nADE PAIRS: \"\n",
    "print (ip)"
   ]
  },
  {
   "cell_type": "code",
   "execution_count": 23,
   "id": "956ca162",
   "metadata": {},
   "outputs": [
    {
     "data": {
      "text/plain": [
       "[{'generated_text': '[[\"adrenaline\",\"cardiomyopathy\"]]'}]"
      ]
     },
     "execution_count": 23,
     "metadata": {},
     "output_type": "execute_result"
    }
   ],
   "source": [
    "generator(ip, \n",
    "          max_length=200)"
   ]
  },
  {
   "cell_type": "code",
   "execution_count": 24,
   "id": "6e1053b1",
   "metadata": {},
   "outputs": [],
   "source": [
    "input_docs = \"ade_gpt3.txt\""
   ]
  },
  {
   "cell_type": "code",
   "execution_count": 25,
   "id": "4bcd1ea6",
   "metadata": {},
   "outputs": [],
   "source": [
    "with open(input_docs) as f:\n",
    "    lines = f.readlines()\n",
    "    unique_ade = [line.strip() for line in lines]"
   ]
  },
  {
   "cell_type": "code",
   "execution_count": 33,
   "id": "77411aea",
   "metadata": {},
   "outputs": [],
   "source": [
    "flan_ade = [prompt + s + \"ADE PAIRS: \" for s in lines]"
   ]
  },
  {
   "cell_type": "code",
   "execution_count": 34,
   "id": "80578c20",
   "metadata": {},
   "outputs": [
    {
     "data": {
      "text/plain": [
       "4271"
      ]
     },
     "execution_count": 34,
     "metadata": {},
     "output_type": "execute_result"
    }
   ],
   "source": [
    "len(flan_ade)"
   ]
  },
  {
   "cell_type": "code",
   "execution_count": 35,
   "id": "428897e3",
   "metadata": {},
   "outputs": [],
   "source": [
    "dev_flan_ade = random.sample(flan_ade, int(0.2*len(flan_ade)))"
   ]
  },
  {
   "cell_type": "code",
   "execution_count": 36,
   "id": "b826155d",
   "metadata": {},
   "outputs": [
    {
     "data": {
      "text/plain": [
       "854"
      ]
     },
     "execution_count": 36,
     "metadata": {},
     "output_type": "execute_result"
    }
   ],
   "source": [
    "len(dev_flan_ade)"
   ]
  },
  {
   "cell_type": "code",
   "execution_count": 37,
   "id": "f040ec5f",
   "metadata": {},
   "outputs": [],
   "source": [
    "dev_flan_ade_sample = dev_flan_ade[:5]"
   ]
  },
  {
   "cell_type": "code",
   "execution_count": 38,
   "id": "51eb1fdb",
   "metadata": {
    "scrolled": true
   },
   "outputs": [],
   "source": [
    "# res = generator(dev_flan_ade, \n",
    "#           max_length=200,\n",
    "# #         batch_size=1)"
   ]
  },
  {
   "cell_type": "code",
   "execution_count": 39,
   "id": "3d4f188d",
   "metadata": {},
   "outputs": [],
   "source": [
    "torch.cuda.empty_cache()"
   ]
  },
  {
   "cell_type": "code",
   "execution_count": 42,
   "id": "2aee2b53",
   "metadata": {},
   "outputs": [
    {
     "name": "stdout",
     "output_type": "stream",
     "text": [
      "List the drugs and their corresponding adverse-effects in the following text using [drug, effect] format:\n",
      "We report the first case of doxycycline-induced hypoglycemia in a young nondiabetic man.\n",
      "ADE PAIRS: [[\"doxycycline\",\"hypoglycemia\"]]</s>\n",
      "\n",
      "List the drugs and their corresponding adverse-effects in the following text using [drug, effect] format:\n",
      "Fever, pulmonary infiltrates, and pleural effusion following acyclovir therapy for herpes zoster ophthalmicus.\n",
      "ADE PAIRS: [[\"acyclovir,Fever\"],[\"acyclovir\",\"pleural effusion\"],[\"acyclovir\",\"pulmonary infiltrates\"]]</s>\n",
      "\n",
      "List the drugs and their corresponding adverse-effects in the following text using [drug, effect] format:\n",
      "Complications of chemotherapy for a synovial sarcoma in an eight-year old boy included cisplatinum nephrotoxicity and adriamycin cardiotoxicity.\n",
      "ADE PAIRS: [[\"adriamycin\",\"cardiotoxicity\"],[\"cisplatinum\",\"nephrotoxicity\"]]</s>\n",
      "\n",
      "List the drugs and their corresponding adverse-effects in the following text using [drug, effect] format:\n",
      "Three male patients aged 78-83 years are presented, in whom severe hepatotoxic reactions emerged after CPA administration.\n",
      "ADE PAIRS: \n"
     ]
    }
   ],
   "source": [
    "print (dev_flan_ade_sample[1])"
   ]
  },
  {
   "cell_type": "code",
   "execution_count": 43,
   "id": "1dbf0499",
   "metadata": {},
   "outputs": [
    {
     "name": "stderr",
     "output_type": "stream",
     "text": [
      " 20%|███████████▏                                            | 1/5 [00:03<00:12,  3.16s/it]"
     ]
    },
    {
     "name": "stdout",
     "output_type": "stream",
     "text": [
      "Can magnesium sulfate therapy impact lactogenesis?\n",
      "[[\"magnesium sulfate\",\"lactogenesis\"]]\n",
      "\n",
      "----------------\n",
      "\n"
     ]
    },
    {
     "name": "stderr",
     "output_type": "stream",
     "text": [
      "\r",
      " 40%|██████████████████████▍                                 | 2/5 [00:05<00:08,  2.77s/it]"
     ]
    },
    {
     "name": "stdout",
     "output_type": "stream",
     "text": [
      "Three male patients aged 78-83 years are presented, in whom severe hepatotoxic reactions emerged after CPA administration.\n",
      "[[\"CPA\",\"hepatotoxicity\"]]\n",
      "\n",
      "----------------\n",
      "\n"
     ]
    },
    {
     "name": "stderr",
     "output_type": "stream",
     "text": [
      "\r",
      " 60%|█████████████████████████████████▌                      | 3/5 [00:08<00:06,  3.03s/it]"
     ]
    },
    {
     "name": "stdout",
     "output_type": "stream",
     "text": [
      "Delusional parasitosis associated with phenelzine.\n",
      "[[\"phenelzine\", \"delusional parasitosis\"]]\n",
      "\n",
      "----------------\n",
      "\n"
     ]
    },
    {
     "name": "stderr",
     "output_type": "stream",
     "text": [
      "\r",
      " 80%|████████████████████████████████████████████▊           | 4/5 [00:12<00:03,  3.09s/it]"
     ]
    },
    {
     "name": "stdout",
     "output_type": "stream",
     "text": [
      "CONCLUSION: While thrombosis has been reported with GnRH-a therapy in men with prostate cancer, its association with treatment in this benign case may have been a consequence of the massive tumor size.\n",
      "[[\"GnRH-a\", \"thrombosis\"]]\n",
      "\n",
      "----------------\n",
      "\n"
     ]
    },
    {
     "name": "stderr",
     "output_type": "stream",
     "text": [
      "100%|████████████████████████████████████████████████████████| 5/5 [00:15<00:00,  3.18s/it]"
     ]
    },
    {
     "name": "stdout",
     "output_type": "stream",
     "text": [
      "Prothipendylhydrochloride-induced priapism: case report.\n",
      "[[\"Prothipendylhydrochloride\", \"priapism\"]]\n",
      "\n",
      "----------------\n",
      "\n"
     ]
    },
    {
     "name": "stderr",
     "output_type": "stream",
     "text": [
      "\n"
     ]
    }
   ],
   "source": [
    "ip = []\n",
    "response = []\n",
    "\n",
    "for ix, instance in enumerate(tqdm(dev_flan_ade_sample)):\n",
    "    try:\n",
    "        res = generator(instance, \n",
    "              max_length=200)\n",
    "        torch.cuda.empty_cache()\n",
    "        ip.append(instance.split(\"\\n\")[-2])\n",
    "        response.append(res[0][\"generated_text\"])\n",
    "        print (instance.split(\"\\n\")[-2])\n",
    "        print (res[0][\"generated_text\"])\n",
    "        print (\"\\n----------------\\n\")\n",
    "    except:\n",
    "        torch.cuda.empty_cache()\n",
    "        pass"
   ]
  },
  {
   "cell_type": "code",
   "execution_count": 14,
   "id": "60f16fde",
   "metadata": {},
   "outputs": [
    {
     "name": "stdout",
     "output_type": "stream",
     "text": [
      "Although the two local anesthetics usually do not cause methemoglobinemia, we suspect that the displacement of lidocaine from protein binding by bupivacaine, in combination with metabolic acidosis and treatment with other oxidants, was the reason for the development of methemoglobinemia.\n",
      "[[\"methemoglobinemia\"], [\"bupivacaine\"], [\"lidocaine\"], [\"metabolic acidosis\"]]\n",
      "\n",
      "=====================\n",
      "\n",
      "We report the first case, to our knowledge, of rituximab-related autoimmune hemolytic anemia.\n",
      "[[\"rituximab\",\"autoimmune hemolytic anemia\"]]\n",
      "\n",
      "=====================\n",
      "\n",
      "BACKGROUND: Fluoxetine, a highly specific serotonin reuptake inhibitor, has been reported to cause sexual dysfunction in a minority of patients.\n",
      "[[\"Fluoxetine\",\"serotonin reuptake inhibitor\"]]\n",
      "\n",
      "=====================\n",
      "\n",
      "We discuss our observations in the cases of two patients with acyclovir neurotoxicity and review the findings of all previous reports in the English language literature.\n",
      "[[\"acyclovir\",\"neurotoxicity\"]]\n",
      "\n",
      "=====================\n",
      "\n",
      "A patient with Wegener's granulomatosis rapidly developed a circumferential subglottic stenosis while on a cyclophosphamide regimen that had caused resolution of systemic symptoms and pulmonary infiltrates.\n",
      "[[\"Wegener's granulomatosis\"], [\"cyclophosphamide\"], [\"Wegener's granulomatosis\"], [\"cyclophosphamide\"], [\"Wegener's granulomatosis\"], [\"cyclophosphamide\"], [\"Wegener's granulomatosis\"], [\"cyclophosphamide\"], [\"Wegener's granulomatosis\"], [\"cyclophosphamide\"], [\"Wegener's granulomatosis\"], [\"cyclophosphamide\"], [\"Wegener's granulomatosis\"], [\"cyclophosphamide\"], [\"cyclophosphamide\"], [\"cyclopho\n",
      "\n",
      "=====================\n",
      "\n"
     ]
    }
   ],
   "source": [
    "for i, r in zip(ip, response):\n",
    "    print (i)\n",
    "    print (r)\n",
    "    print (\"\\n=====================\\n\")"
   ]
  },
  {
   "cell_type": "code",
   "execution_count": null,
   "id": "7cdb3162",
   "metadata": {},
   "outputs": [],
   "source": [
    "df = pd.DataFrame({'input': ip, 'response': response}, index=None)\n",
    "df.to_csv(\"ade_flan_fewshot_results.csv\", index=False)"
   ]
  }
 ],
 "metadata": {
  "kernelspec": {
   "display_name": "Python [conda env:.conda-py38] *",
   "language": "python",
   "name": "conda-env-.conda-py38-py"
  },
  "language_info": {
   "codemirror_mode": {
    "name": "ipython",
    "version": 3
   },
   "file_extension": ".py",
   "mimetype": "text/x-python",
   "name": "python",
   "nbconvert_exporter": "python",
   "pygments_lexer": "ipython3",
   "version": "3.8.13"
  }
 },
 "nbformat": 4,
 "nbformat_minor": 5
}
