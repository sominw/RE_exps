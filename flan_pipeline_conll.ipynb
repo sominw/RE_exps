{
 "cells": [
  {
   "cell_type": "code",
   "execution_count": 1,
   "id": "144b6958",
   "metadata": {},
   "outputs": [
    {
     "name": "stderr",
     "output_type": "stream",
     "text": [
      "/home/wadhwa.s/.conda/envs/py38/lib/python3.8/site-packages/tqdm/auto.py:22: TqdmWarning: IProgress not found. Please update jupyter and ipywidgets. See https://ipywidgets.readthedocs.io/en/stable/user_install.html\n",
      "  from .autonotebook import tqdm as notebook_tqdm\n"
     ]
    }
   ],
   "source": [
    "import numpy as np\n",
    "import pandas as pd\n",
    "import logging\n",
    "import os\n",
    "import glob\n",
    "import regex as re\n",
    "import torch\n",
    "import argparse\n",
    "import random\n",
    "import json\n",
    "import itertools\n",
    "import ast\n",
    "import sys\n",
    "import ast\n",
    "from tqdm import tqdm\n",
    "import warnings\n",
    "import pickle as pk\n",
    "from sklearn.model_selection import train_test_split\n",
    "from transformers import T5Tokenizer, T5ForConditionalGeneration\n",
    "from transformers import AutoModelForSeq2SeqLM, AutoTokenizer\n",
    "from transformers import pipeline\n",
    "\n",
    "warnings.filterwarnings(\"ignore\")"
   ]
  },
  {
   "cell_type": "code",
   "execution_count": 2,
   "id": "7ea45cee",
   "metadata": {},
   "outputs": [
    {
     "name": "stdout",
     "output_type": "stream",
     "text": [
      "Entity Types: [Peop, Loc, Org]\n",
      "Relation Types: [Work_For, Live_In, Located_In, OrgBased_In, Kill]\n",
      "\n",
      "TEXT: Penry raped Pamela Moseley Carpenter on Oct. 15 , 1979 , in Livingston , Texas , then stabbed her to death .\n",
      "Relation List: [[\"Livingston\", \"Located_In\", \"Texas\"]]</s>\n",
      "\n",
      "TEXT: For singer and guitarist Bob Boyd , 57 , the Ranch has been home since he left Chattanooga , Tenn. , 35 years ago .\n",
      "Relation List: [[\"Bob Boyd\", \"Live_In\", \"Chattanooga\"],[\"Bob Boyd\", \"Live_In\", \"Tenn.\"],[\"Chattanooga\", \"Located_In\", \"Tenn.\"]]</s>\n",
      "\n",
      "TEXT: Rome is in Lazio province and Naples in Campania .\n",
      "Relation List: [[\"Rome\", \"Located_In\", \"Lazio\"],[\"Naples\", \"Located_In\", \"Campania\"]]</s>\n",
      "\n",
      "TEXT: He has been the State Department 's refugee coordinator and is a former Harvard politics professor. _Ronald for the rank of ambassador during his tenure as U.S. negotiator on textile matters.\n",
      "Relation List: [[\"State Department\", \"OrgBased_In\", 'U.S.\"],[\"Harvard\", \"OrgBased_In\", \"U.S.\"]]</s>\n",
      "\n",
      "TEXT: In another scene , President James Garfield 's assassin Charles Guiteau ( Jonathan Hadary ) prances up and down the stairs of the gallows where he will be hanged , all the while singing a spirited Gospel tune about \" going to the Lordy . \"\n",
      "Relation List: [[\"Charles Guiteau\", \"Kill\", \"President James Garfield\"]]</s>\n",
      "\n",
      "TEXT: U.S. Coast Guard Training Center , Petaluma , Calif. ;\n",
      "Relation List: [[\"U.S. Coast Guard Training Center\", \"OrgBased_In\", \"Petaluma\"],[\"U.S. Coast Guard Training Center\", \"OrgBased_In\", \"Calif.\"],[\"Petaluma\", \"Located_In\", \"Calif.\"]]</s>\n",
      "\n",
      "TEXT: The Environmental Protection Agency is working on a brochure advising diabetics of the best way to dispose of needles , said Robin Woods , a spokeswoman for the agency in Washington , D.C. It will suggest that diabetics place ` ` sharps ' ' _ the needle end of a syringe _ in a hard plastic or metal container like a coffee can before throwing it in the trash , Woods said.\n",
      "Relation List: [[\"The Environmental Protection Agency\", \"OrgBased_In\", \"Washington , D.C.\"],[\"Robin Woods\", \"Work_For\", \"The Environmental Protection Agency\"],[\"Woods\", \"Work_For\", \"The Environmental Protection Agency\"]]</s>\n",
      "\n",
      "TEXT: SAN FRANCISCO ( AP )\n",
      "Relation List: [[\"AP\", \"OrgBased_In\", \"SAN FRANCISCO\"]]</s>\n",
      "\n",
      "TEXT: Moscow ITAR-TASS\n",
      "Relation List: [[\"ITAR-TASS\", \"OrgBased_In\", \"Moscow\"]]</s>\n",
      "\n",
      "TEXT: He graduated from high school from Benton , Tenn. and from Tennessee Tech in Cookville , and holds a doctorate in physics from Virginia Tech .\n",
      "Relation List: [[\"Benton\", \"Located_In\", \"Tenn.\"],[\"Tennessee Tech\", \"OrgBased_In\", \"Tenn.\"],[\"Tennessee Tech\", \"OrgBased_In\", \"Cookville\"],[\"Cookville\", \"Located_In\", \"Tenn.\"]]</s>\n",
      "\n",
      "TEXT: In 1752 , flagmaker Betsy Ross was born in Philadelphia .\n",
      "Relation List: [[\"Betsy Ross\", \"Live_In\", \"Philadelphia\"]]</s>\n",
      "\n",
      "TEXT: David Foster is the AP 's Northwest regional reporter , based in Seattle.\n",
      "Relation List: [['David Foster\", \"Work_For\", \"AP\"],[\"AP\", \"OrgBased_In\", \"Northwest\"],[\"AP\", \"OrgBased_In\", \"Seattle\"]]</s>\n",
      "\n",
      "\n"
     ]
    }
   ],
   "source": [
    "with open(\"conll_modified_prompt.txt\", \"r\") as text_file:\n",
    "    prompt = text_file.read()\n",
    "print (prompt)"
   ]
  },
  {
   "cell_type": "code",
   "execution_count": 3,
   "id": "63ec72ee",
   "metadata": {},
   "outputs": [],
   "source": [
    "relation_types = [\"Work_For\", \"Live_In\", \"OrgBased_In\", \"Located_In\", \"Kill\"]"
   ]
  },
  {
   "cell_type": "code",
   "execution_count": 4,
   "id": "575512d6",
   "metadata": {},
   "outputs": [],
   "source": [
    "conll = json.load(open('conll04_dev.json'))"
   ]
  },
  {
   "cell_type": "code",
   "execution_count": 5,
   "id": "19937aa7",
   "metadata": {},
   "outputs": [],
   "source": [
    "model = AutoModelForSeq2SeqLM.from_pretrained(\"google/flan-t5-xxl\", \n",
    "                                              cache_dir=\"/scratch/wadhwa.s/cache\", \n",
    "                                              device_map=\"auto\")\n",
    "tokenizer = AutoTokenizer.from_pretrained(\"google/flan-t5-xxl\", \n",
    "                                          cache_dir=\"/scratch/wadhwa.s/cache\")"
   ]
  },
  {
   "cell_type": "code",
   "execution_count": 6,
   "id": "cce54813",
   "metadata": {},
   "outputs": [],
   "source": [
    "generator = pipeline(task=\"text2text-generation\", model=model, tokenizer=tokenizer)"
   ]
  },
  {
   "cell_type": "code",
   "execution_count": 64,
   "id": "e99ce8a7",
   "metadata": {},
   "outputs": [],
   "source": [
    "prompt = \"\"\"In the given text, find all relation triplets of these relation-types only: [\"Work_For\", \"Live_In\", \"OrgBased_In\", \"Located_In\", \"Kill\"] and provide reasonable explanation.\n",
    "TEXT: Rome is in Lazio province and Naples in Campania .\n",
    "RELATIONS: [[\"Rome\", \"Located_In\", \"Lazio\"],[\"Naples\", \"Located_In\", \"Campania\"]]\n",
    "Explanation: Rome is located in Lazio, and naples is located in Campania.\n",
    "\n",
    "\n",
    "In the given text, find all relation triplets of these relation-types only: [\"Work_For\", \"Live_In\", \"OrgBased_In\", \"Located_In\", \"Kill\"] and provide reasonable explanation.\n",
    "TEXT: David Foster is the AP 's Northwest regional reporter , based in Seattle.\n",
    "RELATIONS: [['David Foster\", \"Work_For\", \"AP\"],[\"AP\", \"OrgBased_In\", \"Northwest\"],[\"AP\", \"OrgBased_In\", \"Seattle\"]]\n",
    "Explanation: Dave Foster works for AP, which is an organization based in the Northwest Seattle region.\n",
    "\n",
    "\n",
    "In the given text, find all relation triplets of these relation-types only: [\"Work_For\", \"Live_In\", \"OrgBased_In\", \"Located_In\", \"Kill\"] and provide reasonable explanation.\n",
    "TEXT: SAN FRANCISCO ( AP )\n",
    "RELATIONS: [[\"AP\", \"OrgBased_In\", \"SAN FRANCISCO\"]]\n",
    "Explanation: AP is an organization based in San Francisco.\n",
    "\n",
    "\n",
    "In the given text, find all relation triplets of these relation-types only: [\"Work_For\", \"Live_In\", \"OrgBased_In\", \"Located_In\", \"Kill\"] and provide reasonable explanation.\n",
    "TEXT: He graduated from high school from Benton , Tenn. and from Tennessee Tech in Cookville , and holds a doctorate in physics from Virginia Tech .\"\"\""
   ]
  },
  {
   "cell_type": "code",
   "execution_count": 65,
   "id": "6c6288e0",
   "metadata": {},
   "outputs": [
    {
     "name": "stdout",
     "output_type": "stream",
     "text": [
      "In the given text, find all relation triplets of these relation-types only: [\"Work_For\", \"Live_In\", \"OrgBased_In\", \"Located_In\", \"Kill\"] and provide reasonable explanation.\n",
      "TEXT: Rome is in Lazio province and Naples in Campania .\n",
      "RELATIONS: [[\"Rome\", \"Located_In\", \"Lazio\"],[\"Naples\", \"Located_In\", \"Campania\"]]\n",
      "Explanation: Rome is located in Lazio, and naples is located in Campania.\n",
      "\n",
      "\n",
      "In the given text, find all relation triplets of these relation-types only: [\"Work_For\", \"Live_In\", \"OrgBased_In\", \"Located_In\", \"Kill\"] and provide reasonable explanation.\n",
      "TEXT: David Foster is the AP 's Northwest regional reporter , based in Seattle.\n",
      "RELATIONS: [['David Foster\", \"Work_For\", \"AP\"],[\"AP\", \"OrgBased_In\", \"Northwest\"],[\"AP\", \"OrgBased_In\", \"Seattle\"]]\n",
      "Explanation: Dave Foster works for AP, which is an organization based in the Northwest Seattle region.\n",
      "\n",
      "\n",
      "In the given text, find all relation triplets of these relation-types only: [\"Work_For\", \"Live_In\", \"OrgBased_In\", \"Located_In\", \"Kill\"] and provide reasonable explanation.\n",
      "TEXT: SAN FRANCISCO ( AP )\n",
      "RELATIONS: [[\"AP\", \"OrgBased_In\", \"SAN FRANCISCO\"]]\n",
      "Explanation: AP is an organization based in San Francisco.\n",
      "\n",
      "\n",
      "In the given text, find all relation triplets of these relation-types only: [\"Work_For\", \"Live_In\", \"OrgBased_In\", \"Located_In\", \"Kill\"] and provide reasonable explanation.\n",
      "TEXT: He graduated from high school from Benton , Tenn. and from Tennessee Tech in Cookville , and holds a doctorate in physics from Virginia Tech .\n"
     ]
    }
   ],
   "source": [
    "print (prompt)\n",
    "torch.cuda.empty_cache()"
   ]
  },
  {
   "cell_type": "code",
   "execution_count": 66,
   "id": "f08eaf4b",
   "metadata": {},
   "outputs": [],
   "source": [
    "res = generator(prompt, max_length=200)"
   ]
  },
  {
   "cell_type": "code",
   "execution_count": 67,
   "id": "f7b450ce",
   "metadata": {},
   "outputs": [
    {
     "name": "stdout",
     "output_type": "stream",
     "text": [
      "RELATIONS: [[\"Tennessee Tech\", \"Located_In\", \"Cookville\"], [\"Tennessee Tech\", \"Courses_Offered\", \"Physics\"], [\"Tennessee Tech\", \"Current_President\", \"James E. Benton\"], [\"Tennessee Tech\", \"Current_President\", \"James E. Benton\"], [\"Tennessee Tech\", \"Current_President\", \"James E. Benton\"], [\"Tennessee Tech\", \"Current_President\", \"James E. Benton\"], [\"Tennessee Tech\", \"Current_President\", \"James E. Benton\"], [\"Tennessee Tech\", \"Current_\n"
     ]
    }
   ],
   "source": [
    "print (res[0][\"generated_text\"])"
   ]
  },
  {
   "cell_type": "code",
   "execution_count": null,
   "id": "8a5a31d4",
   "metadata": {},
   "outputs": [],
   "source": []
  },
  {
   "cell_type": "code",
   "execution_count": null,
   "id": "b515f3e1",
   "metadata": {},
   "outputs": [],
   "source": []
  },
  {
   "cell_type": "code",
   "execution_count": 10,
   "id": "aba2051c",
   "metadata": {},
   "outputs": [],
   "source": [
    "force_words_ids = [\n",
    "#     tokenizer([force_word], add_prefix_space=True, add_special_tokens=False).input_ids,\n",
    "    tokenizer(relation_types, add_special_tokens=False).input_ids,\n",
    "]"
   ]
  },
  {
   "cell_type": "code",
   "execution_count": 11,
   "id": "1567cdf7",
   "metadata": {
    "scrolled": false
   },
   "outputs": [
    {
     "name": "stderr",
     "output_type": "stream",
     "text": [
      "100%|█████████████████████████████████████████████████████████████████████████████████| 2/2 [00:00<00:00, 41943.04it/s]\n"
     ]
    }
   ],
   "source": [
    "dev_conll = []\n",
    "for i in tqdm(conll[:2]):\n",
    "\n",
    "    p =  prompt + \"TEXT: \" + ' '.join(i[\"tokens\"]) + \"\\nRelation List: \"\n",
    "    dev_conll.append(p)\n",
    "#     print (p)\n",
    "#     print (\"\\n--------------\\n\")"
   ]
  },
  {
   "cell_type": "code",
   "execution_count": 8,
   "id": "b5975a15",
   "metadata": {},
   "outputs": [],
   "source": [
    "torch.cuda.empty_cache()"
   ]
  },
  {
   "cell_type": "code",
   "execution_count": 15,
   "id": "bd87dbd1",
   "metadata": {},
   "outputs": [
    {
     "name": "stderr",
     "output_type": "stream",
     "text": [
      " 50%|█████████████████████████████████████████▌                                         | 1/2 [07:46<07:46, 466.71s/it]"
     ]
    },
    {
     "name": "stdout",
     "output_type": "stream",
     "text": [
      "TEXT: John Wilkes Booth , who assassinated President Lincoln , was an actor .\n",
      "[[\"John Wilkes Booth\", \"Occupation\", \"Actor\"]] nowiki>[\"John Wilkes Booth\", \"Assassination of Abraham Lincoln\"], [\"John Wilkes Booth\", \"Assassination of Abraham Lincoln\"], [\"John Wilkes Booth\", \"Assassination of Abraham Lincoln\"], [\"John Wilkes Booth\", \"Assassination of Lincoln Kill\n",
      "\n",
      "--------\n",
      "\n"
     ]
    },
    {
     "name": "stderr",
     "output_type": "stream",
     "text": [
      "100%|███████████████████████████████████████████████████████████████████████████████████| 2/2 [15:44<00:00, 472.34s/it]"
     ]
    },
    {
     "name": "stdout",
     "output_type": "stream",
     "text": [
      "TEXT: The opera company performed at the Palace of Fine Arts , in San Francisco , on June 30 and July 1-2 , said Kevin O 'Brien , a spokesman for the theater.\n",
      "[[\"Palace of Fine Arts\", \"Location\", \"San Francisco\"], [\"Kevin O'Brien\", \"Speaker for the theater\"]] nowiki>[\"Palace of Fine Arts\", \"Location\", \"Palace of Fine Arts, San Francisco\", \"June 30 and July 1-2\"]] nowiki>[\"Palace of Fine Arts\", Kill\n",
      "\n",
      "--------\n",
      "\n"
     ]
    },
    {
     "name": "stderr",
     "output_type": "stream",
     "text": [
      "\n"
     ]
    }
   ],
   "source": [
    "ip = []\n",
    "response = []\n",
    "\n",
    "for ix, instance in enumerate(tqdm(dev_conll)):\n",
    "        res = generator(instance, \n",
    "              max_length=100,\n",
    "              force_words_ids=force_words_ids,\n",
    "              num_beams=10, \n",
    "              num_return_sequences=2,\n",
    "              early_stopping=True)\n",
    "        torch.cuda.empty_cache()\n",
    "        ip.append(instance.split(\"\\n\")[-2])\n",
    "        print (instance.split(\"\\n\")[-2])\n",
    "        print (res[0][\"generated_text\"])\n",
    "        print (\"\\n--------\\n\")\n",
    "        response.append(res[0][\"generated_text\"])"
   ]
  },
  {
   "cell_type": "code",
   "execution_count": 34,
   "id": "6a36582b",
   "metadata": {},
   "outputs": [
    {
     "name": "stderr",
     "output_type": "stream",
     "text": [
      " 50%|██████████████████████▌                      | 1/2 [00:08<00:08,  8.07s/it]"
     ]
    },
    {
     "name": "stdout",
     "output_type": "stream",
     "text": [
      "TEXT: John Wilkes Booth , who assassinated President Lincoln , was an actor .\n",
      "[[\"John Wilkes Booth\", \"Occupation\", \"Actor\"]]\n",
      "\n",
      "--------\n",
      "\n"
     ]
    },
    {
     "name": "stderr",
     "output_type": "stream",
     "text": [
      "100%|█████████████████████████████████████████████| 2/2 [00:17<00:00,  8.80s/it]"
     ]
    },
    {
     "name": "stdout",
     "output_type": "stream",
     "text": [
      "TEXT: The opera company performed at the Palace of Fine Arts , in San Francisco , on June 30 and July 1-2 , said Kevin O 'Brien , a spokesman for the theater.\n",
      "[[\"Kevin O'Brien\", \"Worked_For\", Palace of Fine Arts]]\n",
      "\n",
      "--------\n",
      "\n"
     ]
    },
    {
     "name": "stderr",
     "output_type": "stream",
     "text": [
      "\n"
     ]
    }
   ],
   "source": [
    "ip = []\n",
    "response = []\n",
    "\n",
    "for ix, instance in enumerate(tqdm(dev_conll)):\n",
    "    try:\n",
    "        res = generator(instance, \n",
    "              max_length=200)\n",
    "        torch.cuda.empty_cache()\n",
    "        ip.append(instance.split(\"\\n\")[-2])\n",
    "        print (instance.split(\"\\n\")[-2])\n",
    "        print (res[0][\"generated_text\"])\n",
    "        print (\"\\n--------\\n\")\n",
    "        response.append(res[0][\"generated_text\"])\n",
    "    except:\n",
    "        torch.cuda.empty_cache()\n",
    "        pass"
   ]
  },
  {
   "cell_type": "code",
   "execution_count": null,
   "id": "eeb53122",
   "metadata": {},
   "outputs": [],
   "source": [
    "df = pd.DataFrame({'input': ip, 'response': response}, index=None)\n",
    "#df.to_csv(\"conll_flan_fewshot_results.csv\", index=False)"
   ]
  },
  {
   "cell_type": "code",
   "execution_count": null,
   "id": "685544f8",
   "metadata": {},
   "outputs": [],
   "source": []
  }
 ],
 "metadata": {
  "kernelspec": {
   "display_name": "Python 3 (ipykernel)",
   "language": "python",
   "name": "python3"
  },
  "language_info": {
   "codemirror_mode": {
    "name": "ipython",
    "version": 3
   },
   "file_extension": ".py",
   "mimetype": "text/x-python",
   "name": "python",
   "nbconvert_exporter": "python",
   "pygments_lexer": "ipython3",
   "version": "3.8.13"
  }
 },
 "nbformat": 4,
 "nbformat_minor": 5
}
