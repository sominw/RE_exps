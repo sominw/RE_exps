{
 "cells": [
  {
   "cell_type": "code",
   "execution_count": 9,
   "id": "557875d4",
   "metadata": {},
   "outputs": [],
   "source": [
    "import numpy as np\n",
    "import pandas as pd\n",
    "import logging\n",
    "import os\n",
    "import glob\n",
    "import regex as re\n",
    "import torch\n",
    "import argparse\n",
    "import random\n",
    "import itertools\n",
    "import ast\n",
    "import sys\n",
    "import ast\n",
    "from tqdm import tqdm\n",
    "import warnings\n",
    "\n",
    "from sklearn.model_selection import train_test_split\n",
    "from transformers import T5Tokenizer, T5ForConditionalGeneration\n",
    "from transformers import AutoModelForSeq2SeqLM, AutoTokenizer, LongT5Model, LongT5ForConditionalGeneration\n",
    "from transformers import pipeline\n",
    "\n",
    "warnings.filterwarnings(\"ignore\")"
   ]
  },
  {
   "cell_type": "code",
   "execution_count": 10,
   "id": "fb7387b8",
   "metadata": {},
   "outputs": [
    {
     "name": "stdout",
     "output_type": "stream",
     "text": [
      "We report a rare case of colonic mucosal necrosis following Kalimate (calcium polystryrene sulfonate), an analogue of Kayexalate without sorbitol in a 34-yr-old man.\n",
      "Relation List: [[\"calcium polystryrene sulfonate\",\"colonic mucosal necrosis\"],[\"Kalimate\",\"colonic mucosal necrosis\"],[\"Kayexalate\",\"colonic mucosal necrosis\"]]</s>\n",
      "\n",
      "Moreover, these findings suggest that the incidence of BOOP following rituximab therapy may be higher than has been previously appreciated.\n",
      "Relation List: [[\"rituximab\",\"BOOP\"]</s>\n",
      "\n",
      "Malignant mixed mullerian tumor of the uterus in a patient taking raloxifene.\n",
      "Relation List: [[\"raloxifene\",\"Malignant mixed mullerian tumor of the uterus\"]]</s>\n",
      "\n",
      "We describe a case of clozapine-induced seizures in a patient with treatment-resistant schizophrenia.\n",
      "Relation List: [[\"clozapine\",\"seizures\"]]</s>\n",
      "\n",
      "Fever, pulmonary infiltrates, and pleural effusion following acyclovir therapy for herpes zoster ophthalmicus.\n",
      "Relation List: [[\"acyclovir,Fever\"],[\"acyclovir\",\"pleural effusion\"],[\"acyclovir\",\"pulmonary infiltrates\"]]</s>\n",
      "\n",
      "CONCLUSION: We believe this to be the first reported case of rhGH-induced hypercalcemia in an HIV-infected patient.\n",
      "Relation List: [[\"rhGH\",\"hypercalcemia\"]</s>\n",
      "\n",
      "A case of acute subdural haematoma originating spontaneously from an angiomatous meningioma in a patient receiving prophylactic aspirin therapy is presented.\n",
      "Relation List: [[\"aspirin\",\"acute subdural haematoma\"]]</s>\n",
      "\n",
      "We report the first case of doxycycline-induced hypoglycemia in a young nondiabetic man.\n",
      "Relation List: [[\"doxycycline\",\"hypoglycemia\"]]</s>\n",
      "\n",
      "PURPOSE: To describe bilateral corneal endothelial dysfunction in a patient with Parkinson disease who was treated with long-term amantadine.\n",
      "Relation List: [[\"amantadine\",\"bilateral corneal endothelial dysfunction\"]]</s>\n",
      "\n",
      "The Naranjo probability scale indicated a probable relationship between apnea and exposure to lamotrigine through breast-feeding in this infant.\n",
      "Relation List: [[\"lamotrigine\",\"apnea\"]]</s>\n",
      "\n",
      "Temporary neurologic abnormalities were observed in one out of 23 patients undergoing chemotherapy with high-dose methotrexate (HD-MTX) for osteogenic sarcoma.\n",
      "Relation List: [[\"methotrexate\",\"Temporary neurologic abnormalities\"]]</s>\n",
      "\n",
      "Complications of chemotherapy for a synovial sarcoma in an eight-year old boy included cisplatinum nephrotoxicity and adriamycin cardiotoxicity.\n",
      "Relation List: [[\"adriamycin\",\"cardiotoxicity\"],[\"cisplatinum\",\"nephrotoxicity\"]]</s>\n",
      "\n",
      "\n"
     ]
    }
   ],
   "source": [
    "with open(\"ade_prompt.txt\", \"r\") as text_file:\n",
    "    prompt = text_file.read()\n",
    "print (prompt)"
   ]
  },
  {
   "cell_type": "code",
   "execution_count": 16,
   "id": "0be31b5d",
   "metadata": {
    "scrolled": true
   },
   "outputs": [],
   "source": [
    "generator = pipeline(task=\"text-generation\", model=\"gpt2\")"
   ]
  },
  {
   "cell_type": "code",
   "execution_count": 18,
   "id": "32b254c1",
   "metadata": {},
   "outputs": [
    {
     "name": "stderr",
     "output_type": "stream",
     "text": [
      "Setting `pad_token_id` to `eos_token_id`:50256 for open-end generation.\n"
     ]
    },
    {
     "data": {
      "text/plain": [
       "[{'generated_text': 'Three Rings for the Elven-kings under the sky, Seven for the Dwarf-lords in their halls of stone\\n\\n[This is part two of a five-part series about the different types of Rings.]\\n\\nPart I • The Forgotten Races\\n\\nPart II • The Third Age — Myth or Cult (and this is in a separate area of my series)\\n\\nPart III • The Fourth Age — Myth or Cult (and this is at another forum called Myth or Cult on one of my sites)\\n\\nPart IV • The Fifth Age — Myth or Cult (and this is a separate topic outside of this one)\\n\\nPart V • The Sixth Age — Myth or Cult (and this is a separate topic outside of my one)\\n\\nPart VI • The Sixth Age — Myth or Cult (and this is one of two separate threads on this forum)\\n\\nPart VII • The Seventh Age — Myth or Cult (and this is a separate thread on this site)'}]"
      ]
     },
     "execution_count": 18,
     "metadata": {},
     "output_type": "execute_result"
    }
   ],
   "source": [
    "generator(\"Three Rings for the Elven-kings under the sky, Seven for the Dwarf-lords in their halls of stone\", \n",
    "          max_length=200)"
   ]
  },
  {
   "cell_type": "code",
   "execution_count": 19,
   "id": "d6d54a49",
   "metadata": {},
   "outputs": [],
   "source": [
    "test_str = \"\"\"Dilated cardiomyopathy associated with chronic overuse of an adrenaline inhaler.\"\"\""
   ]
  },
  {
   "cell_type": "code",
   "execution_count": 20,
   "id": "08effb42",
   "metadata": {},
   "outputs": [
    {
     "name": "stdout",
     "output_type": "stream",
     "text": [
      "We report a rare case of colonic mucosal necrosis following Kalimate (calcium polystryrene sulfonate), an analogue of Kayexalate without sorbitol in a 34-yr-old man.\n",
      "Relation List: [[\"calcium polystryrene sulfonate\",\"colonic mucosal necrosis\"],[\"Kalimate\",\"colonic mucosal necrosis\"],[\"Kayexalate\",\"colonic mucosal necrosis\"]]</s>\n",
      "\n",
      "Moreover, these findings suggest that the incidence of BOOP following rituximab therapy may be higher than has been previously appreciated.\n",
      "Relation List: [[\"rituximab\",\"BOOP\"]</s>\n",
      "\n",
      "Malignant mixed mullerian tumor of the uterus in a patient taking raloxifene.\n",
      "Relation List: [[\"raloxifene\",\"Malignant mixed mullerian tumor of the uterus\"]]</s>\n",
      "\n",
      "We describe a case of clozapine-induced seizures in a patient with treatment-resistant schizophrenia.\n",
      "Relation List: [[\"clozapine\",\"seizures\"]]</s>\n",
      "\n",
      "Fever, pulmonary infiltrates, and pleural effusion following acyclovir therapy for herpes zoster ophthalmicus.\n",
      "Relation List: [[\"acyclovir,Fever\"],[\"acyclovir\",\"pleural effusion\"],[\"acyclovir\",\"pulmonary infiltrates\"]]</s>\n",
      "\n",
      "CONCLUSION: We believe this to be the first reported case of rhGH-induced hypercalcemia in an HIV-infected patient.\n",
      "Relation List: [[\"rhGH\",\"hypercalcemia\"]</s>\n",
      "\n",
      "A case of acute subdural haematoma originating spontaneously from an angiomatous meningioma in a patient receiving prophylactic aspirin therapy is presented.\n",
      "Relation List: [[\"aspirin\",\"acute subdural haematoma\"]]</s>\n",
      "\n",
      "We report the first case of doxycycline-induced hypoglycemia in a young nondiabetic man.\n",
      "Relation List: [[\"doxycycline\",\"hypoglycemia\"]]</s>\n",
      "\n",
      "PURPOSE: To describe bilateral corneal endothelial dysfunction in a patient with Parkinson disease who was treated with long-term amantadine.\n",
      "Relation List: [[\"amantadine\",\"bilateral corneal endothelial dysfunction\"]]</s>\n",
      "\n",
      "The Naranjo probability scale indicated a probable relationship between apnea and exposure to lamotrigine through breast-feeding in this infant.\n",
      "Relation List: [[\"lamotrigine\",\"apnea\"]]</s>\n",
      "\n",
      "Temporary neurologic abnormalities were observed in one out of 23 patients undergoing chemotherapy with high-dose methotrexate (HD-MTX) for osteogenic sarcoma.\n",
      "Relation List: [[\"methotrexate\",\"Temporary neurologic abnormalities\"]]</s>\n",
      "\n",
      "Complications of chemotherapy for a synovial sarcoma in an eight-year old boy included cisplatinum nephrotoxicity and adriamycin cardiotoxicity.\n",
      "Relation List: [[\"adriamycin\",\"cardiotoxicity\"],[\"cisplatinum\",\"nephrotoxicity\"]]</s>\n",
      "\n",
      "Dilated cardiomyopathy associated with chronic overuse of an adrenaline inhaler.\n",
      "Relation List: \n"
     ]
    }
   ],
   "source": [
    "ip = prompt + test_str + \"\\nRelation List: \"\n",
    "print (ip)"
   ]
  },
  {
   "cell_type": "code",
   "execution_count": 26,
   "id": "956ca162",
   "metadata": {},
   "outputs": [
    {
     "name": "stderr",
     "output_type": "stream",
     "text": [
      "Setting `pad_token_id` to `eos_token_id`:50256 for open-end generation.\n"
     ]
    }
   ],
   "source": [
    "res = generator(ip, \n",
    "          max_length=1024)"
   ]
  },
  {
   "cell_type": "code",
   "execution_count": 27,
   "id": "217c3417",
   "metadata": {},
   "outputs": [
    {
     "name": "stdout",
     "output_type": "stream",
     "text": [
      "We report a rare case of colonic mucosal necrosis following Kalimate (calcium polystryrene sulfonate), an analogue of Kayexalate without sorbitol in a 34-yr-old man.\n",
      "Relation List: [[\"calcium polystryrene sulfonate\",\"colonic mucosal necrosis\"],[\"Kalimate\",\"colonic mucosal necrosis\"],[\"Kayexalate\",\"colonic mucosal necrosis\"]]</s>\n",
      "\n",
      "Moreover, these findings suggest that the incidence of BOOP following rituximab therapy may be higher than has been previously appreciated.\n",
      "Relation List: [[\"rituximab\",\"BOOP\"]</s>\n",
      "\n",
      "Malignant mixed mullerian tumor of the uterus in a patient taking raloxifene.\n",
      "Relation List: [[\"raloxifene\",\"Malignant mixed mullerian tumor of the uterus\"]]</s>\n",
      "\n",
      "We describe a case of clozapine-induced seizures in a patient with treatment-resistant schizophrenia.\n",
      "Relation List: [[\"clozapine\",\"seizures\"]]</s>\n",
      "\n",
      "Fever, pulmonary infiltrates, and pleural effusion following acyclovir therapy for herpes zoster ophthalmicus.\n",
      "Relation List: [[\"acyclovir,Fever\"],[\"acyclovir\",\"pleural effusion\"],[\"acyclovir\",\"pulmonary infiltrates\"]]</s>\n",
      "\n",
      "CONCLUSION: We believe this to be the first reported case of rhGH-induced hypercalcemia in an HIV-infected patient.\n",
      "Relation List: [[\"rhGH\",\"hypercalcemia\"]</s>\n",
      "\n",
      "A case of acute subdural haematoma originating spontaneously from an angiomatous meningioma in a patient receiving prophylactic aspirin therapy is presented.\n",
      "Relation List: [[\"aspirin\",\"acute subdural haematoma\"]]</s>\n",
      "\n",
      "We report the first case of doxycycline-induced hypoglycemia in a young nondiabetic man.\n",
      "Relation List: [[\"doxycycline\",\"hypoglycemia\"]]</s>\n",
      "\n",
      "PURPOSE: To describe bilateral corneal endothelial dysfunction in a patient with Parkinson disease who was treated with long-term amantadine.\n",
      "Relation List: [[\"amantadine\",\"bilateral corneal endothelial dysfunction\"]]</s>\n",
      "\n",
      "The Naranjo probability scale indicated a probable relationship between apnea and exposure to lamotrigine through breast-feeding in this infant.\n",
      "Relation List: [[\"lamotrigine\",\"apnea\"]]</s>\n",
      "\n",
      "Temporary neurologic abnormalities were observed in one out of 23 patients undergoing chemotherapy with high-dose methotrexate (HD-MTX) for osteogenic sarcoma.\n",
      "Relation List: [[\"methotrexate\",\"Temporary neurologic abnormalities\"]]</s>\n",
      "\n",
      "Complications of chemotherapy for a synovial sarcoma in an eight-year old boy included cisplatinum nephrotoxicity and adriamycin cardiotoxicity.\n",
      "Relation List: [[\"adriamycin\",\"cardiotoxicity\"],[\"cisplatinum\",\"nephrotoxicity\"]]</s>\n",
      "\n",
      "Dilated cardiomyopathy associated with chronic overuse of an adrenaline inhaler.\n",
      "Relation List: _______________________________________________\n",
      "\n",
      "The patient took an adrenaline nasal spray, a placebo, and an advenocidal saline in a standard oral regimen of the H&R Block (H&R Oral Immunotherapy): oral H&R Oral Immunotherapy, or ocologastin, which is designed to provide immunoglobulin for pain relief.\n",
      "\n",
      "There was a significant decrease in the incidence of bivalent dilation with dilation of the radial interoardrum on the right side, plus a significant improvement in patients' clinical outcome in these tests with more frequent and localized othromia.\n",
      "\n",
      "In another, chronic inflammatory bowel diseases, patients showed a significant decrease in the incidence of colonic perforations, with a 5-fold reduction in colonic abdominal volume.\n",
      "\n",
      "The decrease was followed by an increase in the incidence of peritonitis in an elderly patient in a group that included those with a history of a major autoimmune reaction.\n",
      "\n",
      "Relation List: [[\"peritonitis\",\"peritonitis of the peritoneal cavity\"]]</s>\n",
      "\n",
      "Advilone for treatment-resistant acute bronchospasm.\n",
      "\n",
      "Relation List: [[\"advilone\",\"a non-cancerous allergic reaction\"]]</s>\n",
      "\n",
      "A new patient is reported to have a significant (relative risk [RR] of -1.5 for a 2-month post-treatment adju\n"
     ]
    }
   ],
   "source": [
    "print (res[0][\"generated_text\"])"
   ]
  },
  {
   "cell_type": "code",
   "execution_count": 5,
   "id": "6e1053b1",
   "metadata": {},
   "outputs": [],
   "source": [
    "input_docs = \"ade_gpt3.txt\""
   ]
  },
  {
   "cell_type": "code",
   "execution_count": 6,
   "id": "4bcd1ea6",
   "metadata": {},
   "outputs": [],
   "source": [
    "with open(input_docs) as f:\n",
    "    lines = f.readlines()\n",
    "    unique_ade = [line.strip() for line in lines]"
   ]
  },
  {
   "cell_type": "code",
   "execution_count": 7,
   "id": "77411aea",
   "metadata": {},
   "outputs": [],
   "source": [
    "flan_ade = [prompt + s + \"Relation List: \" for s in lines]"
   ]
  },
  {
   "cell_type": "code",
   "execution_count": 8,
   "id": "80578c20",
   "metadata": {},
   "outputs": [
    {
     "data": {
      "text/plain": [
       "4271"
      ]
     },
     "execution_count": 8,
     "metadata": {},
     "output_type": "execute_result"
    }
   ],
   "source": [
    "len(flan_ade)"
   ]
  },
  {
   "cell_type": "code",
   "execution_count": 9,
   "id": "428897e3",
   "metadata": {},
   "outputs": [],
   "source": [
    "dev_flan_ade = random.sample(flan_ade, int(0.2*len(flan_ade)))"
   ]
  },
  {
   "cell_type": "code",
   "execution_count": 10,
   "id": "b826155d",
   "metadata": {},
   "outputs": [
    {
     "data": {
      "text/plain": [
       "854"
      ]
     },
     "execution_count": 10,
     "metadata": {},
     "output_type": "execute_result"
    }
   ],
   "source": [
    "len(dev_flan_ade)"
   ]
  },
  {
   "cell_type": "code",
   "execution_count": 11,
   "id": "f040ec5f",
   "metadata": {},
   "outputs": [],
   "source": [
    "dev_flan_ade_sample = dev_flan_ade[:5]"
   ]
  },
  {
   "cell_type": "code",
   "execution_count": 43,
   "id": "51eb1fdb",
   "metadata": {
    "scrolled": true
   },
   "outputs": [
    {
     "data": {
      "text/plain": [
       "[{'generated_text': '[[\"Toxic epidermal necrolysis\"], [\"Toxic epidermal necrolysis\"], [\"Interleukin-2\"]]'},\n",
       " {'generated_text': '[[\"necrotizing fasciitis\"], [\"necrotizing fasciitis\"], [\"necrotizing fasciitis\"], [\"necrotizing fasciitis\"], [\"necrotizing fasciitis\"], [\"necrotizing fasciitis\"], [\"necrotizing fasciitis\"], [\"necrotizing fasciitis\"], [\"necrotizing fasciitis\"], [\"necrotizing fasciitis\"], [\"necrotizing fasciitis\"], [\"necrotizing fasciitis\"], [\"necrotizing fasciitis\"], [\"necrotizing fasciitis\"], [\"necrotizing fasciitis\"], [\"necrotizing fasciitis\"], [\"necrot'},\n",
       " {'generated_text': '[[\"senna\",\"drug interaction\"]]'},\n",
       " {'generated_text': '[[\"rosiglitazone\",\"swelling\"]]'},\n",
       " {'generated_text': '[[\"optic neuritis\"], [\"recombinant interferon alpha\"], [\"natural interferon alpha\"]]'},\n",
       " {'generated_text': '[[\"flurbiprofen\",\"nephrotoxicity\"]]'},\n",
       " {'generated_text': '[[\"olanzapine\",\"akathisia\"]]'},\n",
       " {'generated_text': '[[\"disulfiram\",\"fulminant hepatic failure\"]]'},\n",
       " {'generated_text': '[[\"Cyanamide\",\"aversive agent\"]]'},\n",
       " {'generated_text': '[[\"clozapine\",\"antipsychotic drug\"]]'}]"
      ]
     },
     "execution_count": 43,
     "metadata": {},
     "output_type": "execute_result"
    }
   ],
   "source": [
    "res = generator(dev_flan_ade, \n",
    "          max_length=200,\n",
    "#         batch_size=1)"
   ]
  },
  {
   "cell_type": "code",
   "execution_count": 12,
   "id": "3d4f188d",
   "metadata": {},
   "outputs": [],
   "source": [
    "torch.cuda.empty_cache()"
   ]
  },
  {
   "cell_type": "code",
   "execution_count": 13,
   "id": "1dbf0499",
   "metadata": {},
   "outputs": [
    {
     "name": "stderr",
     "output_type": "stream",
     "text": [
      "  0%|                                                     | 0/5 [00:00<?, ?it/s]Token indices sequence length is longer than the specified maximum sequence length for this model (884 > 512). Running this sequence through the model will result in indexing errors\n",
      "/home/wadhwa.s/.conda/envs/py38/lib/python3.8/site-packages/transformers/generation_utils.py:1442: UserWarning: You are calling .generate() with the `input_ids` being on a device type different than your model's device. `input_ids` is on cpu, whereas the model is on cuda. You may experience unexpected behaviors or slower generation. Please make sure that you have put `input_ids` to the correct device by calling for example input_ids = input_ids.to('cuda') before running `.generate()`.\n",
      "  warnings.warn(\n",
      "100%|█████████████████████████████████████████████| 5/5 [01:09<00:00, 13.95s/it]\n"
     ]
    }
   ],
   "source": [
    "ip = []\n",
    "response = []\n",
    "\n",
    "for ix, instance in enumerate(tqdm(dev_flan_ade_sample)):\n",
    "    try:\n",
    "        res = generator(instance, \n",
    "              max_length=200)\n",
    "        torch.cuda.empty_cache()\n",
    "        ip.append(instance.split(\"\\n\")[-2])\n",
    "        response.append(res[0][\"generated_text\"])\n",
    "    except:\n",
    "        torch.cuda.empty_cache()\n",
    "        pass"
   ]
  },
  {
   "cell_type": "code",
   "execution_count": 14,
   "id": "60f16fde",
   "metadata": {},
   "outputs": [
    {
     "name": "stdout",
     "output_type": "stream",
     "text": [
      "Although the two local anesthetics usually do not cause methemoglobinemia, we suspect that the displacement of lidocaine from protein binding by bupivacaine, in combination with metabolic acidosis and treatment with other oxidants, was the reason for the development of methemoglobinemia.\n",
      "[[\"methemoglobinemia\"], [\"bupivacaine\"], [\"lidocaine\"], [\"metabolic acidosis\"]]\n",
      "\n",
      "=====================\n",
      "\n",
      "We report the first case, to our knowledge, of rituximab-related autoimmune hemolytic anemia.\n",
      "[[\"rituximab\",\"autoimmune hemolytic anemia\"]]\n",
      "\n",
      "=====================\n",
      "\n",
      "BACKGROUND: Fluoxetine, a highly specific serotonin reuptake inhibitor, has been reported to cause sexual dysfunction in a minority of patients.\n",
      "[[\"Fluoxetine\",\"serotonin reuptake inhibitor\"]]\n",
      "\n",
      "=====================\n",
      "\n",
      "We discuss our observations in the cases of two patients with acyclovir neurotoxicity and review the findings of all previous reports in the English language literature.\n",
      "[[\"acyclovir\",\"neurotoxicity\"]]\n",
      "\n",
      "=====================\n",
      "\n",
      "A patient with Wegener's granulomatosis rapidly developed a circumferential subglottic stenosis while on a cyclophosphamide regimen that had caused resolution of systemic symptoms and pulmonary infiltrates.\n",
      "[[\"Wegener's granulomatosis\"], [\"cyclophosphamide\"], [\"Wegener's granulomatosis\"], [\"cyclophosphamide\"], [\"Wegener's granulomatosis\"], [\"cyclophosphamide\"], [\"Wegener's granulomatosis\"], [\"cyclophosphamide\"], [\"Wegener's granulomatosis\"], [\"cyclophosphamide\"], [\"Wegener's granulomatosis\"], [\"cyclophosphamide\"], [\"Wegener's granulomatosis\"], [\"cyclophosphamide\"], [\"cyclophosphamide\"], [\"cyclopho\n",
      "\n",
      "=====================\n",
      "\n"
     ]
    }
   ],
   "source": [
    "for i, r in zip(ip, response):\n",
    "    print (i)\n",
    "    print (r)\n",
    "    print (\"\\n=====================\\n\")"
   ]
  },
  {
   "cell_type": "code",
   "execution_count": null,
   "id": "7cdb3162",
   "metadata": {},
   "outputs": [],
   "source": [
    "df = pd.DataFrame({'input': ip, 'response': response}, index=None)\n",
    "df.to_csv(\"ade_flan_fewshot_results.csv\", index=False)"
   ]
  }
 ],
 "metadata": {
  "kernelspec": {
   "display_name": "Python [conda env:.conda-py38] *",
   "language": "python",
   "name": "conda-env-.conda-py38-py"
  },
  "language_info": {
   "codemirror_mode": {
    "name": "ipython",
    "version": 3
   },
   "file_extension": ".py",
   "mimetype": "text/x-python",
   "name": "python",
   "nbconvert_exporter": "python",
   "pygments_lexer": "ipython3",
   "version": "3.8.13"
  }
 },
 "nbformat": 4,
 "nbformat_minor": 5
}
